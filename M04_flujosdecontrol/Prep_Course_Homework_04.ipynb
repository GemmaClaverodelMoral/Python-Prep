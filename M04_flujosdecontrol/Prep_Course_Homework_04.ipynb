{
 "cells": [
  {
   "attachments": {},
   "cell_type": "markdown",
   "metadata": {},
   "source": [
    "## Flujos de Control"
   ]
  },
  {
   "attachments": {},
   "cell_type": "markdown",
   "metadata": {},
   "source": [
    "1) Crear una variable que contenga un elemento del conjunto de números enteros y luego imprimir por pantalla si es mayor o menor a cero"
   ]
  },
  {
   "cell_type": "code",
   "execution_count": 1,
   "metadata": {},
   "outputs": [
    {
     "name": "stdout",
     "output_type": "stream",
     "text": [
      "Es mayor a cero\n"
     ]
    }
   ],
   "source": [
    "a=5\n",
    "if a>0:\n",
    "    print('Es mayor a cero')\n",
    "elif a<0:\n",
    "    print(\"Es menor a cero\")\n",
    "else:\n",
    "    print(\"Es igual a cero\")"
   ]
  },
  {
   "attachments": {},
   "cell_type": "markdown",
   "metadata": {},
   "source": [
    "2) Crear dos variables y un condicional que informe si son del mismo tipo de dato"
   ]
  },
  {
   "cell_type": "code",
   "execution_count": 4,
   "metadata": {},
   "outputs": [
    {
     "name": "stdout",
     "output_type": "stream",
     "text": [
      "Diferente tipo de datos\n"
     ]
    }
   ],
   "source": [
    "a ='a'\n",
    "a = False\n",
    "b = True\n",
    "if (type(a) == type(b)):\n",
    "    print('Mismo tipo de datos')\n",
    "else:\n",
    "    print('Diferente tipo de datos')"
   ]
  },
  {
   "attachments": {},
   "cell_type": "markdown",
   "metadata": {},
   "source": [
    "3) Para los valores enteros del 1 al 20, imprimir por pantalla si es par o impar"
   ]
  },
  {
   "cell_type": "code",
   "execution_count": 7,
   "metadata": {},
   "outputs": [
    {
     "name": "stdout",
     "output_type": "stream",
     "text": [
      "Numero  1  es impar\n",
      "Numero  2  es par\n",
      "Numero  3  es impar\n",
      "Numero  4  es par\n",
      "Numero  5  es impar\n",
      "Numero  6  es par\n",
      "Numero  7  es impar\n",
      "Numero  8  es par\n",
      "Numero  9  es impar\n",
      "Numero  10  es par\n",
      "Numero  11  es impar\n",
      "Numero  12  es par\n",
      "Numero  13  es impar\n",
      "Numero  14  es par\n",
      "Numero  15  es impar\n",
      "Numero  16  es par\n",
      "Numero  17  es impar\n",
      "Numero  18  es par\n",
      "Numero  19  es impar\n",
      "Numero  20  es par\n"
     ]
    }
   ],
   "source": [
    "numeros = range(1,21) \n",
    "# hasta el 21 no incluido. Para indices que empiezan por 0 es comodo, como JS\n",
    "for num in numeros:\n",
    "    if num % 2 == 0:\n",
    "        print(\"Numero \",num,\" es par\")\n",
    "    else:\n",
    "        print(\"Numero \",num,\" es impar\")\n",
    "    num += 1"
   ]
  },
  {
   "attachments": {},
   "cell_type": "markdown",
   "metadata": {},
   "source": [
    "4) En un ciclo for mostrar para los valores entre 0 y 5 el resultado de elevarlo a la potencia igual a 3"
   ]
  },
  {
   "cell_type": "code",
   "execution_count": 9,
   "metadata": {},
   "outputs": [
    {
     "name": "stdout",
     "output_type": "stream",
     "text": [
      "0  a la potencia 3 es  0\n",
      "1  a la potencia 3 es  1\n",
      "2  a la potencia 3 es  8\n",
      "3  a la potencia 3 es  27\n",
      "4  a la potencia 3 es  64\n",
      "5  a la potencia 3 es  125\n"
     ]
    }
   ],
   "source": [
    "numeros = range(6)\n",
    "for num in numeros:\n",
    "    print(num,' a la potencia 3 es ',num**3)"
   ]
  },
  {
   "attachments": {},
   "cell_type": "markdown",
   "metadata": {},
   "source": [
    "5) Crear una variable que contenga un número entero y realizar un ciclo for la misma cantidad de ciclos"
   ]
  },
  {
   "cell_type": "code",
   "execution_count": 11,
   "metadata": {},
   "outputs": [
    {
     "name": "stdout",
     "output_type": "stream",
     "text": [
      "ciclo: 0\n",
      "ciclo: 1\n",
      "ciclo: 2\n",
      "ciclo: 3\n",
      "ciclo: 4\n"
     ]
    }
   ],
   "source": [
    "entero = 5\n",
    "for num in range(entero):\n",
    "    print('ciclo:',num)\n"
   ]
  },
  {
   "attachments": {},
   "cell_type": "markdown",
   "metadata": {},
   "source": [
    "6) Utilizar un ciclo while para realizar el factorial de un número guardado en una variable, sólo si la variable contiene un número entero mayor a 0"
   ]
  },
  {
   "cell_type": "code",
   "execution_count": 15,
   "metadata": {},
   "outputs": [
    {
     "name": "stdout",
     "output_type": "stream",
     "text": [
      "Factorial de  10  es  3628800\n"
     ]
    }
   ],
   "source": [
    "variable = 10\n",
    "if isinstance(variable, int) and variable > 0:\n",
    "    i = variable\n",
    "    factorial = variable\n",
    "    while i > 1:\n",
    "        factorial *= (i-1)\n",
    "        i -= 1  \n",
    "    print('Factorial de ',variable,' es ', factorial)\n",
    "        "
   ]
  },
  {
   "attachments": {},
   "cell_type": "markdown",
   "metadata": {},
   "source": [
    "7) Crear un ciclo for dentro de un ciclo while"
   ]
  },
  {
   "cell_type": "code",
   "execution_count": 25,
   "metadata": {},
   "outputs": [
    {
     "name": "stdout",
     "output_type": "stream",
     "text": [
      "Viendo peliculas de Netflix: Rango: 1\n",
      "Clima:  Lloviendo\n",
      "Viendo peliculas de Netflix: Rango: 2\n",
      "Viendo peliculas de Netflix: Rango: 2\n",
      "Clima:  Lloviendo\n",
      "Viendo peliculas de Netflix: Rango: 3\n",
      "Viendo peliculas de Netflix: Rango: 3\n",
      "Viendo peliculas de Netflix: Rango: 3\n",
      "Clima:  Lloviendo\n",
      "Viendo peliculas de Netflix: Rango: 4\n",
      "Viendo peliculas de Netflix: Rango: 4\n",
      "Viendo peliculas de Netflix: Rango: 4\n",
      "Viendo peliculas de Netflix: Rango: 4\n",
      "Clima:  Asoleado\n",
      "Salgo del while y me voy a la calle a tomar el sol\n"
     ]
    }
   ],
   "source": [
    "var = 'Lloviendo'\n",
    "rango = 0\n",
    "while (var !='Asoleado'):\n",
    "    rango = rango + 1\n",
    "    for x in range (rango):\n",
    "        print('Viendo peliculas de Netflix: Rango:',rango )\n",
    "        if (rango == 4):\n",
    "            var = 'Asoleado'\n",
    "    print('Clima: ',var)\n",
    "print('Salgo del while y me voy a la calle a tomar el sol')"
   ]
  },
  {
   "attachments": {},
   "cell_type": "markdown",
   "metadata": {},
   "source": [
    "8) Crear un ciclo while dentro de un ciclo for"
   ]
  },
  {
   "cell_type": "code",
   "execution_count": 1,
   "metadata": {},
   "outputs": [
    {
     "name": "stdout",
     "output_type": "stream",
     "text": [
      "Cantando para que pare de llover\n",
      "Cantando para que pare de llover\n",
      "Cantando para que pare de llover\n",
      "Cantando para que pare de llover\n",
      "Cantando para que pare de llover\n",
      "Cantando para que pare de llover\n",
      "Cantando para que pare de llover\n",
      "Cantando para que pare de llover\n",
      "Cantando para que pare de llover\n",
      "Cantando para que pare de llover\n",
      "Cantando para que pare de llover\n",
      "Cantando para que pare de llover\n",
      "Salio el sol a medio dia. Dejo de cantar\n"
     ]
    }
   ],
   "source": [
    "dia = 24\n",
    "var = 'lloviendo'\n",
    "for hora in range(1,dia):\n",
    "    while(var == 'lloviendo'):\n",
    "        print('Cantando para que pare de llover')\n",
    "        if (hora == 12):\n",
    "            var = 'Salio el sol a medio dia. Dejo de cantar'\n",
    "        hora += 1\n",
    "print(var) "
   ]
  },
  {
   "attachments": {},
   "cell_type": "markdown",
   "metadata": {},
   "source": [
    "9) Imprimir los números primos existentes entre 0 y 30"
   ]
  },
  {
   "cell_type": "code",
   "execution_count": 1,
   "metadata": {},
   "outputs": [
    {
     "name": "stdout",
     "output_type": "stream",
     "text": [
      "0\n",
      "1\n",
      "2\n",
      "3\n",
      "5\n",
      "7\n",
      "11\n",
      "13\n",
      "17\n",
      "19\n",
      "23\n",
      "29\n"
     ]
    }
   ],
   "source": [
    "for num in range(0,30):\n",
    "    primo = True\n",
    "    for i in range(2, num):\n",
    "        if (num % i == 0):\n",
    "            primo = False\n",
    "    if primo:\n",
    "        print(num)"
   ]
  },
  {
   "attachments": {},
   "cell_type": "markdown",
   "metadata": {},
   "source": [
    "10) ¿Se puede mejorar el proceso del punto 9? Utilizar las sentencias break y/ó continue para tal fin"
   ]
  },
  {
   "cell_type": "code",
   "execution_count": 2,
   "metadata": {},
   "outputs": [
    {
     "name": "stdout",
     "output_type": "stream",
     "text": [
      "0\n",
      "1\n",
      "2\n",
      "3\n",
      "5\n",
      "7\n",
      "11\n",
      "13\n",
      "17\n",
      "19\n",
      "23\n",
      "29\n"
     ]
    }
   ],
   "source": [
    "for num in range(0,30):\n",
    "    primo = True\n",
    "    for i in range(2, num):\n",
    "        if (num % i == 0):\n",
    "            primo = False\n",
    "            break\n",
    "    if primo:\n",
    "        print(num)"
   ]
  },
  {
   "attachments": {},
   "cell_type": "markdown",
   "metadata": {},
   "source": [
    "11) En los puntos 9 y 10, se diseño un código que encuentra números primos y además se lo optimizó. ¿Es posible saber en qué medida se optimizó?"
   ]
  },
  {
   "cell_type": "code",
   "execution_count": 6,
   "metadata": {},
   "outputs": [],
   "source": [
    "#En la medida que si para un num especifico, encuentra cualquier divisor del mismo, \n",
    "# automaticamente con el break ya no sigue buscando mas divisores puesto que con uno \n",
    "# que encuentre ya no es primo.   "
   ]
  },
  {
   "attachments": {},
   "cell_type": "markdown",
   "metadata": {},
   "source": [
    "12) Aplicando continue, armar un ciclo while que solo imprima los valores divisibles por 12, dentro del rango de números de 100 a 300"
   ]
  },
  {
   "cell_type": "code",
   "execution_count": 10,
   "metadata": {},
   "outputs": [
    {
     "name": "stdout",
     "output_type": "stream",
     "text": [
      "En el rango de 100 a 300\n",
      "108  es divisible por 12\n",
      "120  es divisible por 12\n",
      "132  es divisible por 12\n",
      "144  es divisible por 12\n",
      "156  es divisible por 12\n",
      "168  es divisible por 12\n",
      "180  es divisible por 12\n",
      "192  es divisible por 12\n",
      "204  es divisible por 12\n",
      "216  es divisible por 12\n",
      "228  es divisible por 12\n",
      "240  es divisible por 12\n",
      "252  es divisible por 12\n",
      "264  es divisible por 12\n",
      "276  es divisible por 12\n",
      "288  es divisible por 12\n",
      "300  es divisible por 12\n"
     ]
    }
   ],
   "source": [
    "\n",
    "print('En el rango de 100 a 300')\n",
    "for num in range(100,301):\n",
    "    if num % 12 != 0:\n",
    "        continue\n",
    "    print(num, ' es divisible por 12')"
   ]
  },
  {
   "attachments": {},
   "cell_type": "markdown",
   "metadata": {},
   "source": [
    "13) Utilizar la función **input()** que permite hacer ingresos por teclado, para encontrar números primos y dar la opción al usario de buscar el siguiente"
   ]
  },
  {
   "cell_type": "code",
   "execution_count": 18,
   "metadata": {},
   "outputs": [
    {
     "name": "stdout",
     "output_type": "stream",
     "text": [
      "1\n",
      "Desea buscar el siguiente primo? (1: Si; 2: No):\n",
      "2\n",
      "Desea buscar el siguiente primo? (1: Si; 2: No):\n",
      "3\n",
      "Desea buscar el siguiente primo? (1: Si; 2: No):\n",
      "5\n",
      "Desea buscar el siguiente primo? (1: Si; 2: No):\n",
      "7\n",
      "Desea buscar el siguiente primo? (1: Si; 2: No):\n",
      "No más primos, OK!\n"
     ]
    }
   ],
   "source": [
    "num = 1\n",
    "\n",
    "buscar_siguiente = True\n",
    "\n",
    "while buscar_siguiente:\n",
    "    primo_encontrado = True\n",
    "    print(num)\n",
    "    print('Desea buscar el siguiente primo? (1: Si; 2: No):')\n",
    "    opcion = input()\n",
    "    if opcion == '1':\n",
    "        num += 1\n",
    "        primo_encontrado = False\n",
    "        while not primo_encontrado:  # mientras que no encuentre un numero primo\n",
    "            primo = True\n",
    "            for i in range(2, num):\n",
    "                if num % i == 0:\n",
    "                    primo = False\n",
    "                    break\n",
    "            if primo:\n",
    "                primo_encontrado = True\n",
    "            else:\n",
    "                num += 1\n",
    "    else:\n",
    "        print('No más primos, OK!')\n",
    "        buscar_siguiente = False"
   ]
  },
  {
   "attachments": {},
   "cell_type": "markdown",
   "metadata": {},
   "source": [
    "14) Crear un ciclo while que encuentre dentro del rango de 100 a 300 el primer número divisible por 3 y además múltiplo de 6"
   ]
  },
  {
   "cell_type": "code",
   "execution_count": 20,
   "metadata": {},
   "outputs": [
    {
     "name": "stdout",
     "output_type": "stream",
     "text": [
      "En el rango de 100 a 300\n",
      "102  es el 1er numero entre 100 y 300 divisible por 3 y multiple de 6\n"
     ]
    }
   ],
   "source": [
    "print('En el rango de 100 a 300')\n",
    "num = 100\n",
    "encontrado = False\n",
    "while not encontrado:\n",
    "    if num % 6 == 0:\n",
    "        print(num, ' es el 1er numero entre 100 y 300 divisible por 3 y multiple de 6')\n",
    "        encontrado = True\n",
    "    else:\n",
    "        num += 1"
   ]
  }
 ],
 "metadata": {
  "interpreter": {
   "hash": "c85384e4cb51c8b72350f3a8712cc8351fdc3955e32a27f9b60c6242ab125f01"
  },
  "kernelspec": {
   "display_name": "kernelGemma",
   "language": "python",
   "name": "kernelgemma"
  },
  "language_info": {
   "codemirror_mode": {
    "name": "ipython",
    "version": 3
   },
   "file_extension": ".py",
   "mimetype": "text/x-python",
   "name": "python",
   "nbconvert_exporter": "python",
   "pygments_lexer": "ipython3",
   "version": "3.12.2"
  }
 },
 "nbformat": 4,
 "nbformat_minor": 4
}
